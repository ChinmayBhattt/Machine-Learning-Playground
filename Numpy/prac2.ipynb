{
 "cells": [
  {
   "cell_type": "code",
   "execution_count": 1,
   "id": "6f9c1050",
   "metadata": {},
   "outputs": [],
   "source": [
    "import numpy as np\n",
    "import matplotlib.pyplot as plt"
   ]
  },
  {
   "cell_type": "code",
   "execution_count": null,
   "id": "af465b7e",
   "metadata": {},
   "outputs": [
    {
     "name": "stdout",
     "output_type": "stream",
     "text": [
      "[     15  810000  940000 1085000 1240000]\n"
     ]
    }
   ],
   "source": [
    "sales_data = np.array([\n",
    "    [1,150000, 180000, 220000, 250000], # Paradise Biryani\n",
    "    [2,120000, 140000, 160000, 190000], # Bhejing Bites\n",
    "    [3,200000, 230000, 260000, 300000], # Pizza Hub\n",
    "    [4,180000, 210000, 240000, 270000], # Burger Point\n",
    "    [5,160000, 180000, 205000, 230000], # Chai Point\n",
    "])\n",
    "\n",
    "print(np.sum(sales_data, axis=0))\n",
    "# for i in sales_data[0:3,1:5]:\n",
    "#     print(i)\n",
    "\n",
    "# print(sales_data[0:3,0:3])\n",
    "\n",
    "# print(\"Shaped: \", sales_data.shape)\n",
    "# for i in sales_data:\n",
    "#     print(i)\n",
    "\n",
    "# for i in range(5):\n",
    "#     print(sales_data[i])\n",
    "# print(sales_data[2:4])"
   ]
  }
 ],
 "metadata": {
  "kernelspec": {
   "display_name": "Python 3",
   "language": "python",
   "name": "python3"
  },
  "language_info": {
   "codemirror_mode": {
    "name": "ipython",
    "version": 3
   },
   "file_extension": ".py",
   "mimetype": "text/x-python",
   "name": "python",
   "nbconvert_exporter": "python",
   "pygments_lexer": "ipython3",
   "version": "3.11.4"
  }
 },
 "nbformat": 4,
 "nbformat_minor": 5
}
