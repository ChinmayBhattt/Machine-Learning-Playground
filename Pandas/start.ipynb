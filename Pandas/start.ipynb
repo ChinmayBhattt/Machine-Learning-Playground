{
 "cells": [
  {
   "cell_type": "markdown",
   "id": "d3d528ad",
   "metadata": {},
   "source": [
    "### Introduction To Pandas"
   ]
  },
  {
   "cell_type": "code",
   "execution_count": null,
   "id": "f8370015",
   "metadata": {},
   "outputs": [
    {
     "name": "stdout",
     "output_type": "stream",
     "text": [
      "hello\n"
     ]
    }
   ],
   "source": [
    "print(\"hello\") \n"
   ]
  },
  {
   "cell_type": "markdown",
   "id": "1cbaa9c6",
   "metadata": {},
   "source": [
    "### Key Data Structures in Pandas\n",
    "* Series\n",
    "* Data Frame"
   ]
  },
  {
   "cell_type": "code",
   "execution_count": 4,
   "id": "bc3e9598",
   "metadata": {},
   "outputs": [],
   "source": [
    "import pandas as pd"
   ]
  },
  {
   "cell_type": "code",
   "execution_count": 8,
   "id": "f0888272",
   "metadata": {},
   "outputs": [
    {
     "name": "stdout",
     "output_type": "stream",
     "text": [
      "a    1\n",
      "b    2\n",
      "c    3\n",
      "d    4\n",
      "e    5\n",
      "dtype: int64\n"
     ]
    }
   ],
   "source": [
    "# series -> label array\n",
    "# list -> unlabel array\n",
    "s = pd.Series([1,2,3,4,5], index=['a','b','c','d','e'])\n",
    "print(s)"
   ]
  },
  {
   "cell_type": "code",
   "execution_count": null,
   "id": "8abeb847",
   "metadata": {},
   "outputs": [],
   "source": [
    "df = pd"
   ]
  }
 ],
 "metadata": {
  "kernelspec": {
   "display_name": "Python 3",
   "language": "python",
   "name": "python3"
  },
  "language_info": {
   "codemirror_mode": {
    "name": "ipython",
    "version": 3
   },
   "file_extension": ".py",
   "mimetype": "text/x-python",
   "name": "python",
   "nbconvert_exporter": "python",
   "pygments_lexer": "ipython3",
   "version": "3.11.4"
  }
 },
 "nbformat": 4,
 "nbformat_minor": 5
}
