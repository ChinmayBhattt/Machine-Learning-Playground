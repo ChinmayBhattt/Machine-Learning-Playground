{
 "cells": [
  {
   "cell_type": "code",
   "execution_count": 73,
   "id": "61c8866e-d20b-4ee5-a9bb-684bb7e6a793",
   "metadata": {},
   "outputs": [],
   "source": [
    "import numpy as np\n",
    "import pandas as pd"
   ]
  },
  {
   "cell_type": "code",
   "execution_count": 74,
   "id": "291e10cc-f0a8-4408-9a9a-9ab65ea9f668",
   "metadata": {},
   "outputs": [],
   "source": [
    "a = np.array([[1,2,3,4],[5,6,7,8]])"
   ]
  },
  {
   "cell_type": "code",
   "execution_count": 75,
   "id": "65fda350-53e4-44d5-9b75-5e2579792869",
   "metadata": {},
   "outputs": [],
   "source": [
    "dict1 = {\n",
    "    \"name\": [\"Chinmay\",\"DoIT\",\"NeverGiveUP\",\"ican\"],\n",
    "    \"marks\": [99, 98, 100, 1000],\n",
    "    \"city\": [\"dpr\", \"aura\", \"eathOn\",\"mars\"]\n",
    "    \n",
    "}"
   ]
  },
  {
   "cell_type": "code",
   "execution_count": 76,
   "id": "7269a318-336f-48ef-994c-cc50e9bfbb63",
   "metadata": {},
   "outputs": [],
   "source": [
    "df = pd.DataFrame(dict1)"
   ]
  },
  {
   "cell_type": "code",
   "execution_count": 77,
   "id": "90ff25e6-e8fb-400b-b683-1d825f7f9762",
   "metadata": {},
   "outputs": [
    {
     "data": {
      "text/html": [
       "<div>\n",
       "<style scoped>\n",
       "    .dataframe tbody tr th:only-of-type {\n",
       "        vertical-align: middle;\n",
       "    }\n",
       "\n",
       "    .dataframe tbody tr th {\n",
       "        vertical-align: top;\n",
       "    }\n",
       "\n",
       "    .dataframe thead th {\n",
       "        text-align: right;\n",
       "    }\n",
       "</style>\n",
       "<table border=\"1\" class=\"dataframe\">\n",
       "  <thead>\n",
       "    <tr style=\"text-align: right;\">\n",
       "      <th></th>\n",
       "      <th>name</th>\n",
       "      <th>marks</th>\n",
       "      <th>city</th>\n",
       "    </tr>\n",
       "  </thead>\n",
       "  <tbody>\n",
       "    <tr>\n",
       "      <th>0</th>\n",
       "      <td>Chinmay</td>\n",
       "      <td>99</td>\n",
       "      <td>dpr</td>\n",
       "    </tr>\n",
       "    <tr>\n",
       "      <th>1</th>\n",
       "      <td>DoIT</td>\n",
       "      <td>98</td>\n",
       "      <td>aura</td>\n",
       "    </tr>\n",
       "    <tr>\n",
       "      <th>2</th>\n",
       "      <td>NeverGiveUP</td>\n",
       "      <td>100</td>\n",
       "      <td>eathOn</td>\n",
       "    </tr>\n",
       "    <tr>\n",
       "      <th>3</th>\n",
       "      <td>ican</td>\n",
       "      <td>1000</td>\n",
       "      <td>mars</td>\n",
       "    </tr>\n",
       "  </tbody>\n",
       "</table>\n",
       "</div>"
      ],
      "text/plain": [
       "          name  marks    city\n",
       "0      Chinmay     99     dpr\n",
       "1         DoIT     98    aura\n",
       "2  NeverGiveUP    100  eathOn\n",
       "3         ican   1000    mars"
      ]
     },
     "execution_count": 77,
     "metadata": {},
     "output_type": "execute_result"
    }
   ],
   "source": [
    "df"
   ]
  },
  {
   "cell_type": "code",
   "execution_count": 78,
   "id": "da1ad225-4a1d-40fa-8823-7972c31b96e0",
   "metadata": {},
   "outputs": [],
   "source": [
    "df.to_csv('friends.csv')"
   ]
  },
  {
   "cell_type": "code",
   "execution_count": 79,
   "id": "7954e535-414a-4b7b-abc9-860257d43e49",
   "metadata": {},
   "outputs": [],
   "source": [
    "df.to_csv('friends_index_false.csv', index=\"false\")"
   ]
  },
  {
   "cell_type": "code",
   "execution_count": 80,
   "id": "a4063550-4adb-430b-86cc-2dd8c40f8cc6",
   "metadata": {},
   "outputs": [
    {
     "data": {
      "text/html": [
       "<div>\n",
       "<style scoped>\n",
       "    .dataframe tbody tr th:only-of-type {\n",
       "        vertical-align: middle;\n",
       "    }\n",
       "\n",
       "    .dataframe tbody tr th {\n",
       "        vertical-align: top;\n",
       "    }\n",
       "\n",
       "    .dataframe thead th {\n",
       "        text-align: right;\n",
       "    }\n",
       "</style>\n",
       "<table border=\"1\" class=\"dataframe\">\n",
       "  <thead>\n",
       "    <tr style=\"text-align: right;\">\n",
       "      <th></th>\n",
       "      <th>name</th>\n",
       "      <th>marks</th>\n",
       "      <th>city</th>\n",
       "    </tr>\n",
       "  </thead>\n",
       "  <tbody>\n",
       "    <tr>\n",
       "      <th>0</th>\n",
       "      <td>Chinmay</td>\n",
       "      <td>99</td>\n",
       "      <td>dpr</td>\n",
       "    </tr>\n",
       "    <tr>\n",
       "      <th>1</th>\n",
       "      <td>DoIT</td>\n",
       "      <td>98</td>\n",
       "      <td>aura</td>\n",
       "    </tr>\n",
       "  </tbody>\n",
       "</table>\n",
       "</div>"
      ],
      "text/plain": [
       "      name  marks  city\n",
       "0  Chinmay     99   dpr\n",
       "1     DoIT     98  aura"
      ]
     },
     "execution_count": 80,
     "metadata": {},
     "output_type": "execute_result"
    }
   ],
   "source": [
    "df.head(2)"
   ]
  },
  {
   "cell_type": "code",
   "execution_count": 81,
   "id": "fe227721-32e2-4fa1-916c-58ad677a4f99",
   "metadata": {},
   "outputs": [
    {
     "data": {
      "text/html": [
       "<div>\n",
       "<style scoped>\n",
       "    .dataframe tbody tr th:only-of-type {\n",
       "        vertical-align: middle;\n",
       "    }\n",
       "\n",
       "    .dataframe tbody tr th {\n",
       "        vertical-align: top;\n",
       "    }\n",
       "\n",
       "    .dataframe thead th {\n",
       "        text-align: right;\n",
       "    }\n",
       "</style>\n",
       "<table border=\"1\" class=\"dataframe\">\n",
       "  <thead>\n",
       "    <tr style=\"text-align: right;\">\n",
       "      <th></th>\n",
       "      <th>name</th>\n",
       "      <th>marks</th>\n",
       "      <th>city</th>\n",
       "    </tr>\n",
       "  </thead>\n",
       "  <tbody>\n",
       "    <tr>\n",
       "      <th>2</th>\n",
       "      <td>NeverGiveUP</td>\n",
       "      <td>100</td>\n",
       "      <td>eathOn</td>\n",
       "    </tr>\n",
       "    <tr>\n",
       "      <th>3</th>\n",
       "      <td>ican</td>\n",
       "      <td>1000</td>\n",
       "      <td>mars</td>\n",
       "    </tr>\n",
       "  </tbody>\n",
       "</table>\n",
       "</div>"
      ],
      "text/plain": [
       "          name  marks    city\n",
       "2  NeverGiveUP    100  eathOn\n",
       "3         ican   1000    mars"
      ]
     },
     "execution_count": 81,
     "metadata": {},
     "output_type": "execute_result"
    }
   ],
   "source": [
    "df.tail(2)"
   ]
  },
  {
   "cell_type": "code",
   "execution_count": 82,
   "id": "d19e5f8e-a7c1-4293-a514-e68ecb9d1e91",
   "metadata": {},
   "outputs": [
    {
     "data": {
      "text/html": [
       "<div>\n",
       "<style scoped>\n",
       "    .dataframe tbody tr th:only-of-type {\n",
       "        vertical-align: middle;\n",
       "    }\n",
       "\n",
       "    .dataframe tbody tr th {\n",
       "        vertical-align: top;\n",
       "    }\n",
       "\n",
       "    .dataframe thead th {\n",
       "        text-align: right;\n",
       "    }\n",
       "</style>\n",
       "<table border=\"1\" class=\"dataframe\">\n",
       "  <thead>\n",
       "    <tr style=\"text-align: right;\">\n",
       "      <th></th>\n",
       "      <th>marks</th>\n",
       "    </tr>\n",
       "  </thead>\n",
       "  <tbody>\n",
       "    <tr>\n",
       "      <th>count</th>\n",
       "      <td>4.00000</td>\n",
       "    </tr>\n",
       "    <tr>\n",
       "      <th>mean</th>\n",
       "      <td>324.25000</td>\n",
       "    </tr>\n",
       "    <tr>\n",
       "      <th>std</th>\n",
       "      <td>450.50074</td>\n",
       "    </tr>\n",
       "    <tr>\n",
       "      <th>min</th>\n",
       "      <td>98.00000</td>\n",
       "    </tr>\n",
       "    <tr>\n",
       "      <th>25%</th>\n",
       "      <td>98.75000</td>\n",
       "    </tr>\n",
       "    <tr>\n",
       "      <th>50%</th>\n",
       "      <td>99.50000</td>\n",
       "    </tr>\n",
       "    <tr>\n",
       "      <th>75%</th>\n",
       "      <td>325.00000</td>\n",
       "    </tr>\n",
       "    <tr>\n",
       "      <th>max</th>\n",
       "      <td>1000.00000</td>\n",
       "    </tr>\n",
       "  </tbody>\n",
       "</table>\n",
       "</div>"
      ],
      "text/plain": [
       "            marks\n",
       "count     4.00000\n",
       "mean    324.25000\n",
       "std     450.50074\n",
       "min      98.00000\n",
       "25%      98.75000\n",
       "50%      99.50000\n",
       "75%     325.00000\n",
       "max    1000.00000"
      ]
     },
     "execution_count": 82,
     "metadata": {},
     "output_type": "execute_result"
    }
   ],
   "source": [
    "df.describe()"
   ]
  },
  {
   "cell_type": "code",
   "execution_count": 83,
   "id": "761a2bf4-9e99-4f54-b31b-7f9e0a642a18",
   "metadata": {},
   "outputs": [],
   "source": [
    " df.to_csv('chinmay.csv')"
   ]
  },
  {
   "cell_type": "code",
   "execution_count": 84,
   "id": "d3730937-e0f6-46d3-9eaa-1f2a4ea8037e",
   "metadata": {},
   "outputs": [],
   "source": [
    "cb = pd.read_csv('chinmay.csv')"
   ]
  },
  {
   "cell_type": "code",
   "execution_count": 85,
   "id": "a2e114bd-01fa-4d61-bf23-a1943f32fa4a",
   "metadata": {},
   "outputs": [
    {
     "data": {
      "text/html": [
       "<div>\n",
       "<style scoped>\n",
       "    .dataframe tbody tr th:only-of-type {\n",
       "        vertical-align: middle;\n",
       "    }\n",
       "\n",
       "    .dataframe tbody tr th {\n",
       "        vertical-align: top;\n",
       "    }\n",
       "\n",
       "    .dataframe thead th {\n",
       "        text-align: right;\n",
       "    }\n",
       "</style>\n",
       "<table border=\"1\" class=\"dataframe\">\n",
       "  <thead>\n",
       "    <tr style=\"text-align: right;\">\n",
       "      <th></th>\n",
       "      <th>Unnamed: 0</th>\n",
       "      <th>name</th>\n",
       "      <th>marks</th>\n",
       "      <th>city</th>\n",
       "    </tr>\n",
       "  </thead>\n",
       "  <tbody>\n",
       "    <tr>\n",
       "      <th>0</th>\n",
       "      <td>0</td>\n",
       "      <td>Chinmay</td>\n",
       "      <td>99</td>\n",
       "      <td>dpr</td>\n",
       "    </tr>\n",
       "    <tr>\n",
       "      <th>1</th>\n",
       "      <td>1</td>\n",
       "      <td>DoIT</td>\n",
       "      <td>98</td>\n",
       "      <td>aura</td>\n",
       "    </tr>\n",
       "    <tr>\n",
       "      <th>2</th>\n",
       "      <td>2</td>\n",
       "      <td>NeverGiveUP</td>\n",
       "      <td>100</td>\n",
       "      <td>eathOn</td>\n",
       "    </tr>\n",
       "    <tr>\n",
       "      <th>3</th>\n",
       "      <td>3</td>\n",
       "      <td>ican</td>\n",
       "      <td>1000</td>\n",
       "      <td>mars</td>\n",
       "    </tr>\n",
       "  </tbody>\n",
       "</table>\n",
       "</div>"
      ],
      "text/plain": [
       "   Unnamed: 0         name  marks    city\n",
       "0           0      Chinmay     99     dpr\n",
       "1           1         DoIT     98    aura\n",
       "2           2  NeverGiveUP    100  eathOn\n",
       "3           3         ican   1000    mars"
      ]
     },
     "execution_count": 85,
     "metadata": {},
     "output_type": "execute_result"
    }
   ],
   "source": [
    "cb"
   ]
  },
  {
   "cell_type": "code",
   "execution_count": 86,
   "id": "0b835c8e-1b66-4379-99f9-c27ea03aa19a",
   "metadata": {},
   "outputs": [],
   "source": [
    "# cb['speed'][0] = 50"
   ]
  },
  {
   "cell_type": "code",
   "execution_count": 87,
   "id": "e1455892-b2d2-4371-9396-28d3d4ae6200",
   "metadata": {},
   "outputs": [
    {
     "data": {
      "text/html": [
       "<div>\n",
       "<style scoped>\n",
       "    .dataframe tbody tr th:only-of-type {\n",
       "        vertical-align: middle;\n",
       "    }\n",
       "\n",
       "    .dataframe tbody tr th {\n",
       "        vertical-align: top;\n",
       "    }\n",
       "\n",
       "    .dataframe thead th {\n",
       "        text-align: right;\n",
       "    }\n",
       "</style>\n",
       "<table border=\"1\" class=\"dataframe\">\n",
       "  <thead>\n",
       "    <tr style=\"text-align: right;\">\n",
       "      <th></th>\n",
       "      <th>Unnamed: 0</th>\n",
       "      <th>name</th>\n",
       "      <th>marks</th>\n",
       "      <th>city</th>\n",
       "    </tr>\n",
       "  </thead>\n",
       "  <tbody>\n",
       "    <tr>\n",
       "      <th>0</th>\n",
       "      <td>0</td>\n",
       "      <td>Chinmay</td>\n",
       "      <td>99</td>\n",
       "      <td>dpr</td>\n",
       "    </tr>\n",
       "    <tr>\n",
       "      <th>1</th>\n",
       "      <td>1</td>\n",
       "      <td>DoIT</td>\n",
       "      <td>98</td>\n",
       "      <td>aura</td>\n",
       "    </tr>\n",
       "    <tr>\n",
       "      <th>2</th>\n",
       "      <td>2</td>\n",
       "      <td>NeverGiveUP</td>\n",
       "      <td>100</td>\n",
       "      <td>eathOn</td>\n",
       "    </tr>\n",
       "    <tr>\n",
       "      <th>3</th>\n",
       "      <td>3</td>\n",
       "      <td>ican</td>\n",
       "      <td>1000</td>\n",
       "      <td>mars</td>\n",
       "    </tr>\n",
       "  </tbody>\n",
       "</table>\n",
       "</div>"
      ],
      "text/plain": [
       "   Unnamed: 0         name  marks    city\n",
       "0           0      Chinmay     99     dpr\n",
       "1           1         DoIT     98    aura\n",
       "2           2  NeverGiveUP    100  eathOn\n",
       "3           3         ican   1000    mars"
      ]
     },
     "execution_count": 87,
     "metadata": {},
     "output_type": "execute_result"
    }
   ],
   "source": [
    "cb"
   ]
  },
  {
   "cell_type": "code",
   "execution_count": 88,
   "id": "9f49ef6b-c665-40cf-ab0e-f0eeb5466790",
   "metadata": {},
   "outputs": [],
   "source": [
    "cb.to_csv('chinmay.csv')"
   ]
  },
  {
   "cell_type": "code",
   "execution_count": 89,
   "id": "3b999535-2ca2-4fcf-80ff-a4fe2844051d",
   "metadata": {},
   "outputs": [],
   "source": [
    "cb.index = ['first','second','third','fourth']"
   ]
  },
  {
   "cell_type": "code",
   "execution_count": 90,
   "id": "ebd3d303-c404-4379-b775-58bb1c97709e",
   "metadata": {},
   "outputs": [
    {
     "data": {
      "text/html": [
       "<div>\n",
       "<style scoped>\n",
       "    .dataframe tbody tr th:only-of-type {\n",
       "        vertical-align: middle;\n",
       "    }\n",
       "\n",
       "    .dataframe tbody tr th {\n",
       "        vertical-align: top;\n",
       "    }\n",
       "\n",
       "    .dataframe thead th {\n",
       "        text-align: right;\n",
       "    }\n",
       "</style>\n",
       "<table border=\"1\" class=\"dataframe\">\n",
       "  <thead>\n",
       "    <tr style=\"text-align: right;\">\n",
       "      <th></th>\n",
       "      <th>Unnamed: 0</th>\n",
       "      <th>name</th>\n",
       "      <th>marks</th>\n",
       "      <th>city</th>\n",
       "    </tr>\n",
       "  </thead>\n",
       "  <tbody>\n",
       "    <tr>\n",
       "      <th>first</th>\n",
       "      <td>0</td>\n",
       "      <td>Chinmay</td>\n",
       "      <td>99</td>\n",
       "      <td>dpr</td>\n",
       "    </tr>\n",
       "    <tr>\n",
       "      <th>second</th>\n",
       "      <td>1</td>\n",
       "      <td>DoIT</td>\n",
       "      <td>98</td>\n",
       "      <td>aura</td>\n",
       "    </tr>\n",
       "    <tr>\n",
       "      <th>third</th>\n",
       "      <td>2</td>\n",
       "      <td>NeverGiveUP</td>\n",
       "      <td>100</td>\n",
       "      <td>eathOn</td>\n",
       "    </tr>\n",
       "    <tr>\n",
       "      <th>fourth</th>\n",
       "      <td>3</td>\n",
       "      <td>ican</td>\n",
       "      <td>1000</td>\n",
       "      <td>mars</td>\n",
       "    </tr>\n",
       "  </tbody>\n",
       "</table>\n",
       "</div>"
      ],
      "text/plain": [
       "        Unnamed: 0         name  marks    city\n",
       "first            0      Chinmay     99     dpr\n",
       "second           1         DoIT     98    aura\n",
       "third            2  NeverGiveUP    100  eathOn\n",
       "fourth           3         ican   1000    mars"
      ]
     },
     "execution_count": 90,
     "metadata": {},
     "output_type": "execute_result"
    }
   ],
   "source": [
    "cb"
   ]
  },
  {
   "cell_type": "code",
   "execution_count": 93,
   "id": "6b0624f2-632e-4077-a3b7-e8335663cc33",
   "metadata": {},
   "outputs": [],
   "source": [
    " ser = pd.Series(np.random.rand(34))"
   ]
  },
  {
   "cell_type": "code",
   "execution_count": 94,
   "id": "f7b8f1d3-8e40-4659-9068-3a5199cc0757",
   "metadata": {},
   "outputs": [
    {
     "data": {
      "text/plain": [
       "0     0.855265\n",
       "1     0.929224\n",
       "2     0.211374\n",
       "3     0.042804\n",
       "4     0.164893\n",
       "5     0.182232\n",
       "6     0.331393\n",
       "7     0.095191\n",
       "8     0.013233\n",
       "9     0.713348\n",
       "10    0.276348\n",
       "11    0.106650\n",
       "12    0.104120\n",
       "13    0.806257\n",
       "14    0.646004\n",
       "15    0.270815\n",
       "16    0.554747\n",
       "17    0.294234\n",
       "18    0.704129\n",
       "19    0.394827\n",
       "20    0.029879\n",
       "21    0.382176\n",
       "22    0.005794\n",
       "23    0.028881\n",
       "24    0.939027\n",
       "25    0.711278\n",
       "26    0.744004\n",
       "27    0.752887\n",
       "28    0.735831\n",
       "29    0.282211\n",
       "30    0.940340\n",
       "31    0.071409\n",
       "32    0.240362\n",
       "33    0.916352\n",
       "dtype: float64"
      ]
     },
     "execution_count": 94,
     "metadata": {},
     "output_type": "execute_result"
    }
   ],
   "source": [
    "ser"
   ]
  },
  {
   "cell_type": "code",
   "execution_count": 95,
   "id": "be556497-9a7e-4152-9bef-e780cc141bd2",
   "metadata": {},
   "outputs": [
    {
     "data": {
      "text/plain": [
       "pandas.core.series.Series"
      ]
     },
     "execution_count": 95,
     "metadata": {},
     "output_type": "execute_result"
    }
   ],
   "source": [
    "type(ser)"
   ]
  },
  {
   "cell_type": "code",
   "execution_count": 96,
   "id": "15fc2190-5709-433b-8502-51519db6beb6",
   "metadata": {},
   "outputs": [],
   "source": [
    "newdf = pd.DataFrame(np.random.rand(334, 5), index=np.arange(334))"
   ]
  },
  {
   "cell_type": "code",
   "execution_count": 97,
   "id": "38497197-5885-4dea-b3ee-5a8adf12de0d",
   "metadata": {},
   "outputs": [
    {
     "data": {
      "text/html": [
       "<div>\n",
       "<style scoped>\n",
       "    .dataframe tbody tr th:only-of-type {\n",
       "        vertical-align: middle;\n",
       "    }\n",
       "\n",
       "    .dataframe tbody tr th {\n",
       "        vertical-align: top;\n",
       "    }\n",
       "\n",
       "    .dataframe thead th {\n",
       "        text-align: right;\n",
       "    }\n",
       "</style>\n",
       "<table border=\"1\" class=\"dataframe\">\n",
       "  <thead>\n",
       "    <tr style=\"text-align: right;\">\n",
       "      <th></th>\n",
       "      <th>0</th>\n",
       "      <th>1</th>\n",
       "      <th>2</th>\n",
       "      <th>3</th>\n",
       "      <th>4</th>\n",
       "    </tr>\n",
       "  </thead>\n",
       "  <tbody>\n",
       "    <tr>\n",
       "      <th>0</th>\n",
       "      <td>0.301146</td>\n",
       "      <td>0.815837</td>\n",
       "      <td>0.118865</td>\n",
       "      <td>0.115897</td>\n",
       "      <td>0.701587</td>\n",
       "    </tr>\n",
       "    <tr>\n",
       "      <th>1</th>\n",
       "      <td>0.261830</td>\n",
       "      <td>0.018374</td>\n",
       "      <td>0.023429</td>\n",
       "      <td>0.992384</td>\n",
       "      <td>0.784962</td>\n",
       "    </tr>\n",
       "    <tr>\n",
       "      <th>2</th>\n",
       "      <td>0.177497</td>\n",
       "      <td>0.505714</td>\n",
       "      <td>0.440075</td>\n",
       "      <td>0.940590</td>\n",
       "      <td>0.521198</td>\n",
       "    </tr>\n",
       "    <tr>\n",
       "      <th>3</th>\n",
       "      <td>0.733431</td>\n",
       "      <td>0.185460</td>\n",
       "      <td>0.219865</td>\n",
       "      <td>0.502103</td>\n",
       "      <td>0.891877</td>\n",
       "    </tr>\n",
       "    <tr>\n",
       "      <th>4</th>\n",
       "      <td>0.366923</td>\n",
       "      <td>0.887062</td>\n",
       "      <td>0.228775</td>\n",
       "      <td>0.227142</td>\n",
       "      <td>0.490151</td>\n",
       "    </tr>\n",
       "    <tr>\n",
       "      <th>...</th>\n",
       "      <td>...</td>\n",
       "      <td>...</td>\n",
       "      <td>...</td>\n",
       "      <td>...</td>\n",
       "      <td>...</td>\n",
       "    </tr>\n",
       "    <tr>\n",
       "      <th>329</th>\n",
       "      <td>0.902414</td>\n",
       "      <td>0.195703</td>\n",
       "      <td>0.703550</td>\n",
       "      <td>0.703323</td>\n",
       "      <td>0.272135</td>\n",
       "    </tr>\n",
       "    <tr>\n",
       "      <th>330</th>\n",
       "      <td>0.185665</td>\n",
       "      <td>0.389205</td>\n",
       "      <td>0.538308</td>\n",
       "      <td>0.405219</td>\n",
       "      <td>0.828932</td>\n",
       "    </tr>\n",
       "    <tr>\n",
       "      <th>331</th>\n",
       "      <td>0.141820</td>\n",
       "      <td>0.378597</td>\n",
       "      <td>0.446374</td>\n",
       "      <td>0.024121</td>\n",
       "      <td>0.534928</td>\n",
       "    </tr>\n",
       "    <tr>\n",
       "      <th>332</th>\n",
       "      <td>0.550884</td>\n",
       "      <td>0.533615</td>\n",
       "      <td>0.003414</td>\n",
       "      <td>0.262225</td>\n",
       "      <td>0.646644</td>\n",
       "    </tr>\n",
       "    <tr>\n",
       "      <th>333</th>\n",
       "      <td>0.822331</td>\n",
       "      <td>0.077834</td>\n",
       "      <td>0.956624</td>\n",
       "      <td>0.576070</td>\n",
       "      <td>0.523286</td>\n",
       "    </tr>\n",
       "  </tbody>\n",
       "</table>\n",
       "<p>334 rows × 5 columns</p>\n",
       "</div>"
      ],
      "text/plain": [
       "            0         1         2         3         4\n",
       "0    0.301146  0.815837  0.118865  0.115897  0.701587\n",
       "1    0.261830  0.018374  0.023429  0.992384  0.784962\n",
       "2    0.177497  0.505714  0.440075  0.940590  0.521198\n",
       "3    0.733431  0.185460  0.219865  0.502103  0.891877\n",
       "4    0.366923  0.887062  0.228775  0.227142  0.490151\n",
       "..        ...       ...       ...       ...       ...\n",
       "329  0.902414  0.195703  0.703550  0.703323  0.272135\n",
       "330  0.185665  0.389205  0.538308  0.405219  0.828932\n",
       "331  0.141820  0.378597  0.446374  0.024121  0.534928\n",
       "332  0.550884  0.533615  0.003414  0.262225  0.646644\n",
       "333  0.822331  0.077834  0.956624  0.576070  0.523286\n",
       "\n",
       "[334 rows x 5 columns]"
      ]
     },
     "execution_count": 97,
     "metadata": {},
     "output_type": "execute_result"
    }
   ],
   "source": [
    "newdf"
   ]
  },
  {
   "cell_type": "code",
   "execution_count": 98,
   "id": "bb641ad5-85c1-4fcb-9d17-1e8bc37eb695",
   "metadata": {},
   "outputs": [
    {
     "data": {
      "text/plain": [
       "pandas.core.frame.DataFrame"
      ]
     },
     "execution_count": 98,
     "metadata": {},
     "output_type": "execute_result"
    }
   ],
   "source": [
    "type(newdf)"
   ]
  },
  {
   "cell_type": "code",
   "execution_count": null,
   "id": "cd0179e9-8549-4bf2-ba43-0a2354506824",
   "metadata": {},
   "outputs": [],
   "source": []
  }
 ],
 "metadata": {
  "kernelspec": {
   "display_name": "Python 3 (ipykernel)",
   "language": "python",
   "name": "python3"
  },
  "language_info": {
   "codemirror_mode": {
    "name": "ipython",
    "version": 3
   },
   "file_extension": ".py",
   "mimetype": "text/x-python",
   "name": "python",
   "nbconvert_exporter": "python",
   "pygments_lexer": "ipython3",
   "version": "3.12.4"
  }
 },
 "nbformat": 4,
 "nbformat_minor": 5
}
